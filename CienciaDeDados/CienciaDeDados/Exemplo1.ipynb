{
 "cells": [
  {
   "cell_type": "code",
   "id": "initial_id",
   "metadata": {
    "collapsed": true,
    "jupyter": {
     "outputs_hidden": true
    },
    "ExecuteTime": {
     "end_time": "2025-06-09T12:48:04.504628Z",
     "start_time": "2025-06-09T12:48:04.499239Z"
    }
   },
   "source": [
    "import pandas as pd\n",
    "from sklearn.model_selection import train_test_split\n",
    "from sklearn.linear_model import LogisticRegression\n",
    "from sklearn.neighbors import KNeighborsClassifier\n",
    "from sklearn.metrics import accuracy_score, f1_score, classification_report, confusion_matrix, ConfusionMatrixDisplay\n",
    "import matplotlib.pyplot as plt\n",
    "import seaborn as sns\n"
   ],
   "outputs": [],
   "execution_count": 206
  },
  {
   "cell_type": "code",
   "id": "d30eca36665c830f",
   "metadata": {
    "ExecuteTime": {
     "end_time": "2025-06-09T12:48:04.539869Z",
     "start_time": "2025-06-09T12:48:04.534007Z"
    }
   },
   "source": [
    "MeuConjuntoDeDados = {\n",
    "    'Calorias' : ['11345','3230','2434','3545','5600','7900','9200','12300'],\n",
    "    'Metro' : ['120','160','130','981','290','340','250','230'],\n",
    "    'MaxPulse' : ['76','120','90','139','110','145','123','100'],\n",
    "    'Duracao': ['45','50','100','120','134','200','340','430'],\n",
    "    'Passo' : ['6000','8000','20000','12000','13000','29000','12345','23409']\n",
    "}\n"
   ],
   "outputs": [],
   "execution_count": 207
  },
  {
   "cell_type": "code",
   "id": "481398ecbb4d78",
   "metadata": {
    "ExecuteTime": {
     "end_time": "2025-06-09T12:48:04.582953Z",
     "start_time": "2025-06-09T12:48:04.573229Z"
    }
   },
   "source": [
    "drop_df = pd.DataFrame(MeuConjuntoDeDados)\n",
    "print(drop_df)"
   ],
   "outputs": [
    {
     "name": "stdout",
     "output_type": "stream",
     "text": [
      "  Calorias Metro MaxPulse Duracao  Passo\n",
      "0    11345   120       76      45   6000\n",
      "1     3230   160      120      50   8000\n",
      "2     2434   130       90     100  20000\n",
      "3     3545   981      139     120  12000\n",
      "4     5600   290      110     134  13000\n",
      "5     7900   340      145     200  29000\n",
      "6     9200   250      123     340  12345\n",
      "7    12300   230      100     430  23409\n"
     ]
    }
   ],
   "execution_count": 208
  },
  {
   "metadata": {
    "ExecuteTime": {
     "end_time": "2025-06-09T12:48:04.631221Z",
     "start_time": "2025-06-09T12:48:04.625119Z"
    }
   },
   "cell_type": "code",
   "source": [
    "shape = drop_df.shape\n",
    "print(shape)"
   ],
   "id": "945260a75dcb9d2a",
   "outputs": [
    {
     "name": "stdout",
     "output_type": "stream",
     "text": [
      "(8, 5)\n"
     ]
    }
   ],
   "execution_count": 209
  },
  {
   "metadata": {
    "ExecuteTime": {
     "end_time": "2025-06-09T12:48:04.678770Z",
     "start_time": "2025-06-09T12:48:04.668597Z"
    }
   },
   "cell_type": "code",
   "source": [
    "df = pd.DataFrame(MeuConjuntoDeDados)\n",
    "corr = df.corr()\n",
    "print(corr)"
   ],
   "id": "f71835fd90569fe8",
   "outputs": [
    {
     "name": "stdout",
     "output_type": "stream",
     "text": [
      "          Calorias     Metro  MaxPulse   Duracao     Passo\n",
      "Calorias  1.000000 -0.301226 -0.294493  0.601916  0.137929\n",
      "Metro    -0.301226  1.000000  0.623380 -0.031903 -0.013871\n",
      "MaxPulse -0.294493  0.623380  1.000000  0.151249  0.311691\n",
      "Duracao   0.601916 -0.031903  0.151249  1.000000  0.513067\n",
      "Passo     0.137929 -0.013871  0.311691  0.513067  1.000000\n"
     ]
    }
   ],
   "execution_count": 210
  },
  {
   "metadata": {
    "ExecuteTime": {
     "end_time": "2025-06-09T12:48:04.767642Z",
     "start_time": "2025-06-09T12:48:04.757618Z"
    }
   },
   "cell_type": "code",
   "source": "pd.value_counts(df['Duracao'])",
   "id": "226c166bbdd66eaa",
   "outputs": [
    {
     "data": {
      "text/plain": [
       "Duracao\n",
       "45     1\n",
       "50     1\n",
       "100    1\n",
       "120    1\n",
       "134    1\n",
       "200    1\n",
       "340    1\n",
       "430    1\n",
       "Name: count, dtype: int64"
      ]
     },
     "execution_count": 211,
     "metadata": {},
     "output_type": "execute_result"
    }
   ],
   "execution_count": 211
  },
  {
   "metadata": {
    "ExecuteTime": {
     "end_time": "2025-06-09T12:48:04.899433Z",
     "start_time": "2025-06-09T12:48:04.890030Z"
    }
   },
   "cell_type": "code",
   "source": "pd.value_counts(df['MaxPulse'])\n",
   "id": "6b3366001896a717",
   "outputs": [
    {
     "data": {
      "text/plain": [
       "MaxPulse\n",
       "76     1\n",
       "120    1\n",
       "90     1\n",
       "139    1\n",
       "110    1\n",
       "145    1\n",
       "123    1\n",
       "100    1\n",
       "Name: count, dtype: int64"
      ]
     },
     "execution_count": 212,
     "metadata": {},
     "output_type": "execute_result"
    }
   ],
   "execution_count": 212
  },
  {
   "metadata": {
    "ExecuteTime": {
     "end_time": "2025-06-09T12:48:05.112398Z",
     "start_time": "2025-06-09T12:48:05.102381Z"
    }
   },
   "cell_type": "code",
   "source": "pd.value_counts(df['Metro'])",
   "id": "1c2cada0acd80709",
   "outputs": [
    {
     "data": {
      "text/plain": [
       "Metro\n",
       "120    1\n",
       "160    1\n",
       "130    1\n",
       "981    1\n",
       "290    1\n",
       "340    1\n",
       "250    1\n",
       "230    1\n",
       "Name: count, dtype: int64"
      ]
     },
     "execution_count": 213,
     "metadata": {},
     "output_type": "execute_result"
    }
   ],
   "execution_count": 213
  },
  {
   "metadata": {
    "ExecuteTime": {
     "end_time": "2025-06-09T12:48:05.357639Z",
     "start_time": "2025-06-09T12:48:05.347769Z"
    }
   },
   "cell_type": "code",
   "source": "pd.value_counts(df['Calorias'])",
   "id": "56e714e0065f177a",
   "outputs": [
    {
     "data": {
      "text/plain": [
       "Calorias\n",
       "11345    1\n",
       "3230     1\n",
       "2434     1\n",
       "3545     1\n",
       "5600     1\n",
       "7900     1\n",
       "9200     1\n",
       "12300    1\n",
       "Name: count, dtype: int64"
      ]
     },
     "execution_count": 214,
     "metadata": {},
     "output_type": "execute_result"
    }
   ],
   "execution_count": 214
  },
  {
   "metadata": {
    "ExecuteTime": {
     "end_time": "2025-06-09T12:48:05.591118Z",
     "start_time": "2025-06-09T12:48:05.580670Z"
    }
   },
   "cell_type": "code",
   "source": "pd.value_counts(df['Passo'])",
   "id": "6621b4ee134c5be9",
   "outputs": [
    {
     "data": {
      "text/plain": [
       "Passo\n",
       "6000     1\n",
       "8000     1\n",
       "20000    1\n",
       "12000    1\n",
       "13000    1\n",
       "29000    1\n",
       "12345    1\n",
       "23409    1\n",
       "Name: count, dtype: int64"
      ]
     },
     "execution_count": 215,
     "metadata": {},
     "output_type": "execute_result"
    }
   ],
   "execution_count": 215
  },
  {
   "metadata": {
    "ExecuteTime": {
     "end_time": "2025-06-09T12:48:05.806569Z",
     "start_time": "2025-06-09T12:48:05.794017Z"
    }
   },
   "cell_type": "code",
   "source": "df.info()",
   "id": "9d781e979d5f323d",
   "outputs": [
    {
     "name": "stdout",
     "output_type": "stream",
     "text": [
      "<class 'pandas.core.frame.DataFrame'>\n",
      "RangeIndex: 8 entries, 0 to 7\n",
      "Data columns (total 5 columns):\n",
      " #   Column    Non-Null Count  Dtype \n",
      "---  ------    --------------  ----- \n",
      " 0   Calorias  8 non-null      object\n",
      " 1   Metro     8 non-null      object\n",
      " 2   MaxPulse  8 non-null      object\n",
      " 3   Duracao   8 non-null      object\n",
      " 4   Passo     8 non-null      object\n",
      "dtypes: object(5)\n",
      "memory usage: 448.0+ bytes\n"
     ]
    }
   ],
   "execution_count": 216
  },
  {
   "metadata": {
    "ExecuteTime": {
     "end_time": "2025-06-09T12:48:05.943362Z",
     "start_time": "2025-06-09T12:48:05.932388Z"
    }
   },
   "cell_type": "code",
   "source": "print(df)",
   "id": "6776a99b1db3a530",
   "outputs": [
    {
     "name": "stdout",
     "output_type": "stream",
     "text": [
      "  Calorias Metro MaxPulse Duracao  Passo\n",
      "0    11345   120       76      45   6000\n",
      "1     3230   160      120      50   8000\n",
      "2     2434   130       90     100  20000\n",
      "3     3545   981      139     120  12000\n",
      "4     5600   290      110     134  13000\n",
      "5     7900   340      145     200  29000\n",
      "6     9200   250      123     340  12345\n",
      "7    12300   230      100     430  23409\n"
     ]
    }
   ],
   "execution_count": 217
  },
  {
   "metadata": {
    "ExecuteTime": {
     "end_time": "2025-06-09T12:48:06.027492Z",
     "start_time": "2025-06-09T12:48:06.006770Z"
    }
   },
   "cell_type": "code",
   "source": "df.describe()",
   "id": "27146f7e3cbfe425",
   "outputs": [
    {
     "data": {
      "text/plain": [
       "       Calorias Metro MaxPulse Duracao Passo\n",
       "count         8     8        8       8     8\n",
       "unique        8     8        8       8     8\n",
       "top       11345   120       76      45  6000\n",
       "freq          1     1        1       1     1"
      ],
      "text/html": [
       "<div>\n",
       "<style scoped>\n",
       "    .dataframe tbody tr th:only-of-type {\n",
       "        vertical-align: middle;\n",
       "    }\n",
       "\n",
       "    .dataframe tbody tr th {\n",
       "        vertical-align: top;\n",
       "    }\n",
       "\n",
       "    .dataframe thead th {\n",
       "        text-align: right;\n",
       "    }\n",
       "</style>\n",
       "<table border=\"1\" class=\"dataframe\">\n",
       "  <thead>\n",
       "    <tr style=\"text-align: right;\">\n",
       "      <th></th>\n",
       "      <th>Calorias</th>\n",
       "      <th>Metro</th>\n",
       "      <th>MaxPulse</th>\n",
       "      <th>Duracao</th>\n",
       "      <th>Passo</th>\n",
       "    </tr>\n",
       "  </thead>\n",
       "  <tbody>\n",
       "    <tr>\n",
       "      <th>count</th>\n",
       "      <td>8</td>\n",
       "      <td>8</td>\n",
       "      <td>8</td>\n",
       "      <td>8</td>\n",
       "      <td>8</td>\n",
       "    </tr>\n",
       "    <tr>\n",
       "      <th>unique</th>\n",
       "      <td>8</td>\n",
       "      <td>8</td>\n",
       "      <td>8</td>\n",
       "      <td>8</td>\n",
       "      <td>8</td>\n",
       "    </tr>\n",
       "    <tr>\n",
       "      <th>top</th>\n",
       "      <td>11345</td>\n",
       "      <td>120</td>\n",
       "      <td>76</td>\n",
       "      <td>45</td>\n",
       "      <td>6000</td>\n",
       "    </tr>\n",
       "    <tr>\n",
       "      <th>freq</th>\n",
       "      <td>1</td>\n",
       "      <td>1</td>\n",
       "      <td>1</td>\n",
       "      <td>1</td>\n",
       "      <td>1</td>\n",
       "    </tr>\n",
       "  </tbody>\n",
       "</table>\n",
       "</div>"
      ]
     },
     "execution_count": 218,
     "metadata": {},
     "output_type": "execute_result"
    }
   ],
   "execution_count": 218
  },
  {
   "metadata": {
    "ExecuteTime": {
     "end_time": "2025-06-09T12:48:06.148670Z",
     "start_time": "2025-06-09T12:48:06.130866Z"
    }
   },
   "cell_type": "code",
   "source": "df.sort_index(axis=1, ascending = False)",
   "id": "fdaa11eef969f3ce",
   "outputs": [
    {
     "data": {
      "text/plain": [
       "   Passo Metro MaxPulse Duracao Calorias\n",
       "0   6000   120       76      45    11345\n",
       "1   8000   160      120      50     3230\n",
       "2  20000   130       90     100     2434\n",
       "3  12000   981      139     120     3545\n",
       "4  13000   290      110     134     5600\n",
       "5  29000   340      145     200     7900\n",
       "6  12345   250      123     340     9200\n",
       "7  23409   230      100     430    12300"
      ],
      "text/html": [
       "<div>\n",
       "<style scoped>\n",
       "    .dataframe tbody tr th:only-of-type {\n",
       "        vertical-align: middle;\n",
       "    }\n",
       "\n",
       "    .dataframe tbody tr th {\n",
       "        vertical-align: top;\n",
       "    }\n",
       "\n",
       "    .dataframe thead th {\n",
       "        text-align: right;\n",
       "    }\n",
       "</style>\n",
       "<table border=\"1\" class=\"dataframe\">\n",
       "  <thead>\n",
       "    <tr style=\"text-align: right;\">\n",
       "      <th></th>\n",
       "      <th>Passo</th>\n",
       "      <th>Metro</th>\n",
       "      <th>MaxPulse</th>\n",
       "      <th>Duracao</th>\n",
       "      <th>Calorias</th>\n",
       "    </tr>\n",
       "  </thead>\n",
       "  <tbody>\n",
       "    <tr>\n",
       "      <th>0</th>\n",
       "      <td>6000</td>\n",
       "      <td>120</td>\n",
       "      <td>76</td>\n",
       "      <td>45</td>\n",
       "      <td>11345</td>\n",
       "    </tr>\n",
       "    <tr>\n",
       "      <th>1</th>\n",
       "      <td>8000</td>\n",
       "      <td>160</td>\n",
       "      <td>120</td>\n",
       "      <td>50</td>\n",
       "      <td>3230</td>\n",
       "    </tr>\n",
       "    <tr>\n",
       "      <th>2</th>\n",
       "      <td>20000</td>\n",
       "      <td>130</td>\n",
       "      <td>90</td>\n",
       "      <td>100</td>\n",
       "      <td>2434</td>\n",
       "    </tr>\n",
       "    <tr>\n",
       "      <th>3</th>\n",
       "      <td>12000</td>\n",
       "      <td>981</td>\n",
       "      <td>139</td>\n",
       "      <td>120</td>\n",
       "      <td>3545</td>\n",
       "    </tr>\n",
       "    <tr>\n",
       "      <th>4</th>\n",
       "      <td>13000</td>\n",
       "      <td>290</td>\n",
       "      <td>110</td>\n",
       "      <td>134</td>\n",
       "      <td>5600</td>\n",
       "    </tr>\n",
       "    <tr>\n",
       "      <th>5</th>\n",
       "      <td>29000</td>\n",
       "      <td>340</td>\n",
       "      <td>145</td>\n",
       "      <td>200</td>\n",
       "      <td>7900</td>\n",
       "    </tr>\n",
       "    <tr>\n",
       "      <th>6</th>\n",
       "      <td>12345</td>\n",
       "      <td>250</td>\n",
       "      <td>123</td>\n",
       "      <td>340</td>\n",
       "      <td>9200</td>\n",
       "    </tr>\n",
       "    <tr>\n",
       "      <th>7</th>\n",
       "      <td>23409</td>\n",
       "      <td>230</td>\n",
       "      <td>100</td>\n",
       "      <td>430</td>\n",
       "      <td>12300</td>\n",
       "    </tr>\n",
       "  </tbody>\n",
       "</table>\n",
       "</div>"
      ]
     },
     "execution_count": 219,
     "metadata": {},
     "output_type": "execute_result"
    }
   ],
   "execution_count": 219
  },
  {
   "metadata": {
    "ExecuteTime": {
     "end_time": "2025-06-09T12:48:06.336086Z",
     "start_time": "2025-06-09T12:48:06.325731Z"
    }
   },
   "cell_type": "code",
   "source": "print(df.sort_index(axis = 1, ascending = False))",
   "id": "3b0f8f17364de2e4",
   "outputs": [
    {
     "name": "stdout",
     "output_type": "stream",
     "text": [
      "   Passo Metro MaxPulse Duracao Calorias\n",
      "0   6000   120       76      45    11345\n",
      "1   8000   160      120      50     3230\n",
      "2  20000   130       90     100     2434\n",
      "3  12000   981      139     120     3545\n",
      "4  13000   290      110     134     5600\n",
      "5  29000   340      145     200     7900\n",
      "6  12345   250      123     340     9200\n",
      "7  23409   230      100     430    12300\n"
     ]
    }
   ],
   "execution_count": 220
  },
  {
   "metadata": {
    "ExecuteTime": {
     "end_time": "2025-06-09T12:48:06.534468Z",
     "start_time": "2025-06-09T12:48:06.528245Z"
    }
   },
   "cell_type": "code",
   "source": [
    "shape = df.size\n",
    "print(shape)\n",
    "shape = df.shape\n",
    "print(shape)"
   ],
   "id": "861c090e92555f61",
   "outputs": [
    {
     "name": "stdout",
     "output_type": "stream",
     "text": [
      "40\n",
      "(8, 5)\n"
     ]
    }
   ],
   "execution_count": 221
  },
  {
   "metadata": {
    "ExecuteTime": {
     "end_time": "2025-06-09T12:48:06.603771Z",
     "start_time": "2025-06-09T12:48:06.592578Z"
    }
   },
   "cell_type": "code",
   "source": [
    "df = df.astype('int')\n",
    "corr = df.corrwith(df['Calorias'])\n",
    "print(corr)"
   ],
   "id": "9c82654e331095d0",
   "outputs": [
    {
     "name": "stdout",
     "output_type": "stream",
     "text": [
      "Calorias    1.000000\n",
      "Metro      -0.301226\n",
      "MaxPulse   -0.294493\n",
      "Duracao     0.601916\n",
      "Passo       0.137929\n",
      "dtype: float64\n"
     ]
    }
   ],
   "execution_count": 222
  },
  {
   "metadata": {
    "ExecuteTime": {
     "end_time": "2025-06-09T12:48:31.121171Z",
     "start_time": "2025-06-09T12:48:31.108376Z"
    }
   },
   "cell_type": "code",
   "source": [
    "df = df.astype('int')\n",
    "corr = df.corrwith(df['MaxPulse'])\n",
    "print(corr)"
   ],
   "id": "e9ae3e1dfec57517",
   "outputs": [
    {
     "name": "stdout",
     "output_type": "stream",
     "text": [
      "Calorias   -0.294493\n",
      "Metro       0.623380\n",
      "MaxPulse    1.000000\n",
      "Duracao     0.151249\n",
      "Passo       0.311691\n",
      "dtype: float64\n"
     ]
    }
   ],
   "execution_count": 229
  },
  {
   "metadata": {
    "ExecuteTime": {
     "end_time": "2025-06-09T12:48:32.531116Z",
     "start_time": "2025-06-09T12:48:32.519470Z"
    }
   },
   "cell_type": "code",
   "source": [
    "df =  df.astype('int')\n",
    "corr = df.corrwith(df['Metro'])\n",
    "print(corr)"
   ],
   "id": "f969df04a5b9839d",
   "outputs": [
    {
     "name": "stdout",
     "output_type": "stream",
     "text": [
      "Calorias   -0.301226\n",
      "Metro       1.000000\n",
      "MaxPulse    0.623380\n",
      "Duracao    -0.031903\n",
      "Passo      -0.013871\n",
      "dtype: float64\n"
     ]
    }
   ],
   "execution_count": 230
  },
  {
   "metadata": {
    "ExecuteTime": {
     "end_time": "2025-06-09T12:48:39.005308Z",
     "start_time": "2025-06-09T12:48:38.994776Z"
    }
   },
   "cell_type": "code",
   "source": [
    "df = df.astype('int')\n",
    "corr = df.corrwith(df['Duracao'])\n",
    "print(corr)"
   ],
   "id": "a0112a8236248ea1",
   "outputs": [
    {
     "name": "stdout",
     "output_type": "stream",
     "text": [
      "Calorias    0.601916\n",
      "Metro      -0.031903\n",
      "MaxPulse    0.151249\n",
      "Duracao     1.000000\n",
      "Passo       0.513067\n",
      "dtype: float64\n"
     ]
    }
   ],
   "execution_count": 232
  },
  {
   "metadata": {
    "ExecuteTime": {
     "end_time": "2025-06-09T12:48:44.092418Z",
     "start_time": "2025-06-09T12:48:44.081258Z"
    }
   },
   "cell_type": "code",
   "source": [
    "df = df.astype('int')\n",
    "corr = df.corrwith(df['Passo'])\n",
    "print(corr)"
   ],
   "id": "81fa91a64f5c3e5",
   "outputs": [
    {
     "name": "stdout",
     "output_type": "stream",
     "text": [
      "Calorias    0.137929\n",
      "Metro      -0.013871\n",
      "MaxPulse    0.311691\n",
      "Duracao     0.513067\n",
      "Passo       1.000000\n",
      "dtype: float64\n"
     ]
    }
   ],
   "execution_count": 233
  },
  {
   "metadata": {
    "ExecuteTime": {
     "end_time": "2025-06-09T12:48:46.223883Z",
     "start_time": "2025-06-09T12:48:46.215079Z"
    }
   },
   "cell_type": "code",
   "source": [
    "sortings = df.sort_values(by=\"Metro\")\n",
    "print(sortings)"
   ],
   "id": "abb0f8f77ac84343",
   "outputs": [
    {
     "name": "stdout",
     "output_type": "stream",
     "text": [
      "   Calorias  Metro  MaxPulse  Duracao  Passo\n",
      "0     11345    120        76       45   6000\n",
      "2      2434    130        90      100  20000\n",
      "1      3230    160       120       50   8000\n",
      "7     12300    230       100      430  23409\n",
      "6      9200    250       123      340  12345\n",
      "4      5600    290       110      134  13000\n",
      "5      7900    340       145      200  29000\n",
      "3      3545    981       139      120  12000\n"
     ]
    }
   ],
   "execution_count": 234
  },
  {
   "metadata": {
    "ExecuteTime": {
     "end_time": "2025-06-09T12:49:32.482606Z",
     "start_time": "2025-06-09T12:49:32.473621Z"
    }
   },
   "cell_type": "code",
   "source": [
    "sortings = df.sort_values(by=\"MaxPulse\");\n",
    "print(sortings)"
   ],
   "id": "b3a837b8f1c45ce3",
   "outputs": [
    {
     "name": "stdout",
     "output_type": "stream",
     "text": [
      "   Calorias  Metro  MaxPulse  Duracao  Passo\n",
      "0     11345    120        76       45   6000\n",
      "2      2434    130        90      100  20000\n",
      "7     12300    230       100      430  23409\n",
      "4      5600    290       110      134  13000\n",
      "1      3230    160       120       50   8000\n",
      "6      9200    250       123      340  12345\n",
      "3      3545    981       139      120  12000\n",
      "5      7900    340       145      200  29000\n"
     ]
    }
   ],
   "execution_count": 237
  },
  {
   "metadata": {
    "ExecuteTime": {
     "end_time": "2025-06-09T12:48:48.518099Z",
     "start_time": "2025-06-09T12:48:48.508568Z"
    }
   },
   "cell_type": "code",
   "source": [
    "sortings = df.sort_values(by=\"Calorias\")\n",
    "print(sortings)"
   ],
   "id": "6aabb4c6646f6c08",
   "outputs": [
    {
     "name": "stdout",
     "output_type": "stream",
     "text": [
      "   Calorias  Metro  MaxPulse  Duracao  Passo\n",
      "2      2434    130        90      100  20000\n",
      "1      3230    160       120       50   8000\n",
      "3      3545    981       139      120  12000\n",
      "4      5600    290       110      134  13000\n",
      "5      7900    340       145      200  29000\n",
      "6      9200    250       123      340  12345\n",
      "0     11345    120        76       45   6000\n",
      "7     12300    230       100      430  23409\n"
     ]
    }
   ],
   "execution_count": 235
  }
 ],
 "metadata": {
  "kernelspec": {
   "display_name": "Python 3 (ipykernel)",
   "language": "python",
   "name": "python3"
  },
  "language_info": {
   "codemirror_mode": {
    "name": "ipython",
    "version": 3
   },
   "file_extension": ".py",
   "mimetype": "text/x-python",
   "name": "python",
   "nbconvert_exporter": "python",
   "pygments_lexer": "ipython3",
   "version": "3.8.1"
  }
 },
 "nbformat": 4,
 "nbformat_minor": 5
}
